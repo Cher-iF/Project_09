{
 "cells": [
  {
   "cell_type": "code",
   "execution_count": 1,
   "metadata": {},
   "outputs": [],
   "source": [
    "import pandas as pd\n",
    "import numpy as np\n",
    "import os\n",
    "import datetime\n",
    "import pickle\n",
    "import seaborn as sns\n",
    "import pickle"
   ]
  },
  {
   "cell_type": "markdown",
   "metadata": {},
   "source": [
    "### EDA :"
   ]
  },
  {
   "cell_type": "code",
   "execution_count": 2,
   "metadata": {},
   "outputs": [
    {
     "name": "stdout",
     "output_type": "stream",
     "text": [
      "list of files within folder  : ['articles_embeddings.pickle', 'articles_metadata.csv', 'clicks', 'clicks.zip', 'clicks_sample.csv']\n",
      "<class 'pandas.core.frame.DataFrame'>\n",
      "RangeIndex: 364047 entries, 0 to 364046\n",
      "Data columns (total 5 columns):\n",
      " #   Column         Non-Null Count   Dtype\n",
      "---  ------         --------------   -----\n",
      " 0   article_id     364047 non-null  int64\n",
      " 1   category_id    364047 non-null  int64\n",
      " 2   created_at_ts  364047 non-null  int64\n",
      " 3   publisher_id   364047 non-null  int64\n",
      " 4   words_count    364047 non-null  int64\n",
      "dtypes: int64(5)\n",
      "memory usage: 13.9 MB\n",
      "dataframe info : None\n",
      "##----------------------------------##\n",
      "shape of \"articles_metadata.csv\" file  : (364047, 5)\n",
      "duplicated rows on \"article_id\" subset : 0\n",
      "Articles count from min to max: 0 364046\n",
      "Max and min dates of dataset   : 2018-03-13 12:12:30         2006-09-27 11:14:35\n",
      "Time  interval of dataset  : 11.47\n",
      "##----------------------------------##\n",
      "File : Articles metadata.csv\n"
     ]
    },
    {
     "data": {
      "text/html": [
       "<div>\n",
       "<style scoped>\n",
       "    .dataframe tbody tr th:only-of-type {\n",
       "        vertical-align: middle;\n",
       "    }\n",
       "\n",
       "    .dataframe tbody tr th {\n",
       "        vertical-align: top;\n",
       "    }\n",
       "\n",
       "    .dataframe thead th {\n",
       "        text-align: right;\n",
       "    }\n",
       "</style>\n",
       "<table border=\"1\" class=\"dataframe\">\n",
       "  <thead>\n",
       "    <tr style=\"text-align: right;\">\n",
       "      <th></th>\n",
       "      <th>article_id</th>\n",
       "      <th>category_id</th>\n",
       "      <th>created_at_ts</th>\n",
       "      <th>publisher_id</th>\n",
       "      <th>words_count</th>\n",
       "      <th>creation_time</th>\n",
       "    </tr>\n",
       "  </thead>\n",
       "  <tbody>\n",
       "    <tr>\n",
       "      <th>0</th>\n",
       "      <td>0</td>\n",
       "      <td>0</td>\n",
       "      <td>1513144419000</td>\n",
       "      <td>0</td>\n",
       "      <td>168</td>\n",
       "      <td>2017-12-13 05:53:39</td>\n",
       "    </tr>\n",
       "    <tr>\n",
       "      <th>1</th>\n",
       "      <td>1</td>\n",
       "      <td>1</td>\n",
       "      <td>1405341936000</td>\n",
       "      <td>0</td>\n",
       "      <td>189</td>\n",
       "      <td>2014-07-14 12:45:36</td>\n",
       "    </tr>\n",
       "    <tr>\n",
       "      <th>2</th>\n",
       "      <td>2</td>\n",
       "      <td>1</td>\n",
       "      <td>1408667706000</td>\n",
       "      <td>0</td>\n",
       "      <td>250</td>\n",
       "      <td>2014-08-22 00:35:06</td>\n",
       "    </tr>\n",
       "  </tbody>\n",
       "</table>\n",
       "</div>"
      ],
      "text/plain": [
       "   article_id  category_id  created_at_ts  publisher_id  words_count  \\\n",
       "0           0            0  1513144419000             0          168   \n",
       "1           1            1  1405341936000             0          189   \n",
       "2           2            1  1408667706000             0          250   \n",
       "\n",
       "        creation_time  \n",
       "0 2017-12-13 05:53:39  \n",
       "1 2014-07-14 12:45:36  \n",
       "2 2014-08-22 00:35:06  "
      ]
     },
     "execution_count": 2,
     "metadata": {},
     "output_type": "execute_result"
    }
   ],
   "source": [
    "path = './data/'\n",
    "print('list of files within folder  :',os.listdir(path))\n",
    "df_meta = pd.read_csv(path+'articles_metadata.csv')\n",
    "print('dataframe info :',df_meta.info())\n",
    "print('##----------------------------------##')\n",
    "print('shape of \"articles_metadata.csv\" file  :',df_meta.shape)\n",
    "print('duplicated rows on \"article_id\" subset :',df_meta.duplicated(subset='article_id', keep='first').sum())\n",
    "print('Articles count from min to max:',df_meta['article_id'].min(), df_meta['article_id'].max())\n",
    "day_divider = 86400000\n",
    "df_meta['creation_time'] = df_meta['created_at_ts'].values.astype(dtype='datetime64[ms]')\n",
    "print('Max and min dates of dataset   :',df_meta['creation_time'].max(),'       ', df_meta['creation_time'].min())\n",
    "delta_time = (df_meta['created_at_ts'].max()-df_meta['created_at_ts'].min())/day_divider/365\n",
    "print('Time  interval of dataset  : %.2f'%delta_time)\n",
    "print('##----------------------------------##')\n",
    "print('File : Articles metadata.csv')\n",
    "df_meta.head(3)"
   ]
  },
  {
   "cell_type": "code",
   "execution_count": 59,
   "metadata": {},
   "outputs": [
    {
     "name": "stdout",
     "output_type": "stream",
     "text": [
      "check distribution of words count :\n"
     ]
    },
    {
     "data": {
      "text/plain": [
       "(2016-04-15 00:02:50.833333248, 2018-03-13 12:12:30]              243418\n",
       "(2014-05-18 11:53:11.666666752, 2016-04-15 00:02:50.833333248]     88834\n",
       "(2012-06-19 23:43:32.500000, 2014-05-18 11:53:11.666666752]        31340\n",
       "(2010-07-23 11:33:53.333333248, 2012-06-19 23:43:32.500000]          352\n",
       "(2008-08-24 23:24:14.166666752, 2010-07-23 11:33:53.333333248]        54\n",
       "(2006-09-23 06:48:07.524999935, 2008-08-24 23:24:14.166666752]        49\n",
       "Name: creation_time, dtype: int64"
      ]
     },
     "execution_count": 59,
     "metadata": {},
     "output_type": "execute_result"
    }
   ],
   "source": [
    "print('check distribution of articles creation date :')\n",
    "df_meta['creation_time'].value_counts(bins=6)"
   ]
  },
  {
   "cell_type": "code",
   "execution_count": 58,
   "metadata": {},
   "outputs": [
    {
     "data": {
      "text/plain": [
       "0    364047\n",
       "Name: publisher_id, dtype: int64"
      ]
     },
     "execution_count": 58,
     "metadata": {},
     "output_type": "execute_result"
    }
   ],
   "source": [
    "df_meta['publisher_id'].value_counts()"
   ]
  },
  {
   "cell_type": "code",
   "execution_count": 5,
   "metadata": {},
   "outputs": [
    {
     "name": "stdout",
     "output_type": "stream",
     "text": [
      "check distribution of words count :\n"
     ]
    },
    {
     "data": {
      "text/plain": [
       "(-6.691000000000001, 1672.5]    364022\n",
       "(1672.5, 3345.0]                    22\n",
       "(3345.0, 5017.5]                     2\n",
       "(5017.5, 6690.0]                     1\n",
       "Name: words_count, dtype: int64"
      ]
     },
     "execution_count": 5,
     "metadata": {},
     "output_type": "execute_result"
    }
   ],
   "source": [
    "print('check distribution of words count :')\n",
    "df_meta['words_count'].value_counts(bins=4)"
   ]
  },
  {
   "cell_type": "code",
   "execution_count": 5,
   "metadata": {},
   "outputs": [
    {
     "name": "stdout",
     "output_type": "stream",
     "text": [
      "<class 'pandas.core.frame.DataFrame'>\n",
      "RangeIndex: 1883 entries, 0 to 1882\n",
      "Data columns (total 12 columns):\n",
      " #   Column               Non-Null Count  Dtype\n",
      "---  ------               --------------  -----\n",
      " 0   user_id              1883 non-null   int64\n",
      " 1   session_id           1883 non-null   int64\n",
      " 2   session_start        1883 non-null   int64\n",
      " 3   session_size         1883 non-null   int64\n",
      " 4   click_article_id     1883 non-null   int64\n",
      " 5   click_timestamp      1883 non-null   int64\n",
      " 6   click_environment    1883 non-null   int64\n",
      " 7   click_deviceGroup    1883 non-null   int64\n",
      " 8   click_os             1883 non-null   int64\n",
      " 9   click_country        1883 non-null   int64\n",
      " 10  click_region         1883 non-null   int64\n",
      " 11  click_referrer_type  1883 non-null   int64\n",
      "dtypes: int64(12)\n",
      "memory usage: 176.7 KB\n",
      "dataframe infos : None\n",
      "##----------------------------------##\n",
      "Dataframe columns : Index(['user_id', 'session_id', 'session_start', 'session_size',\n",
      "       'click_article_id', 'click_timestamp', 'click_environment',\n",
      "       'click_deviceGroup', 'click_os', 'click_country', 'click_region',\n",
      "       'click_referrer_type'],\n",
      "      dtype='object')\n",
      "##----------------------------------##\n",
      "(1883, 12)\n"
     ]
    },
    {
     "data": {
      "text/html": [
       "<div>\n",
       "<style scoped>\n",
       "    .dataframe tbody tr th:only-of-type {\n",
       "        vertical-align: middle;\n",
       "    }\n",
       "\n",
       "    .dataframe tbody tr th {\n",
       "        vertical-align: top;\n",
       "    }\n",
       "\n",
       "    .dataframe thead th {\n",
       "        text-align: right;\n",
       "    }\n",
       "</style>\n",
       "<table border=\"1\" class=\"dataframe\">\n",
       "  <thead>\n",
       "    <tr style=\"text-align: right;\">\n",
       "      <th></th>\n",
       "      <th>user_id</th>\n",
       "      <th>session_id</th>\n",
       "      <th>session_start</th>\n",
       "      <th>session_size</th>\n",
       "      <th>click_article_id</th>\n",
       "      <th>click_timestamp</th>\n",
       "      <th>click_environment</th>\n",
       "      <th>click_deviceGroup</th>\n",
       "      <th>click_os</th>\n",
       "      <th>click_country</th>\n",
       "      <th>click_region</th>\n",
       "      <th>click_referrer_type</th>\n",
       "    </tr>\n",
       "  </thead>\n",
       "  <tbody>\n",
       "    <tr>\n",
       "      <th>0</th>\n",
       "      <td>0</td>\n",
       "      <td>1506825423271737</td>\n",
       "      <td>1506825423000</td>\n",
       "      <td>2</td>\n",
       "      <td>157541</td>\n",
       "      <td>1506826828020</td>\n",
       "      <td>4</td>\n",
       "      <td>3</td>\n",
       "      <td>20</td>\n",
       "      <td>1</td>\n",
       "      <td>20</td>\n",
       "      <td>2</td>\n",
       "    </tr>\n",
       "    <tr>\n",
       "      <th>1</th>\n",
       "      <td>0</td>\n",
       "      <td>1506825423271737</td>\n",
       "      <td>1506825423000</td>\n",
       "      <td>2</td>\n",
       "      <td>68866</td>\n",
       "      <td>1506826858020</td>\n",
       "      <td>4</td>\n",
       "      <td>3</td>\n",
       "      <td>20</td>\n",
       "      <td>1</td>\n",
       "      <td>20</td>\n",
       "      <td>2</td>\n",
       "    </tr>\n",
       "    <tr>\n",
       "      <th>2</th>\n",
       "      <td>1</td>\n",
       "      <td>1506825426267738</td>\n",
       "      <td>1506825426000</td>\n",
       "      <td>2</td>\n",
       "      <td>235840</td>\n",
       "      <td>1506827017951</td>\n",
       "      <td>4</td>\n",
       "      <td>1</td>\n",
       "      <td>17</td>\n",
       "      <td>1</td>\n",
       "      <td>16</td>\n",
       "      <td>2</td>\n",
       "    </tr>\n",
       "  </tbody>\n",
       "</table>\n",
       "</div>"
      ],
      "text/plain": [
       "   user_id        session_id  session_start  session_size  click_article_id  \\\n",
       "0        0  1506825423271737  1506825423000             2            157541   \n",
       "1        0  1506825423271737  1506825423000             2             68866   \n",
       "2        1  1506825426267738  1506825426000             2            235840   \n",
       "\n",
       "   click_timestamp  click_environment  click_deviceGroup  click_os  \\\n",
       "0    1506826828020                  4                  3        20   \n",
       "1    1506826858020                  4                  3        20   \n",
       "2    1506827017951                  4                  1        17   \n",
       "\n",
       "   click_country  click_region  click_referrer_type  \n",
       "0              1            20                    2  \n",
       "1              1            20                    2  \n",
       "2              1            16                    2  "
      ]
     },
     "execution_count": 5,
     "metadata": {},
     "output_type": "execute_result"
    }
   ],
   "source": [
    "af = pd.read_csv(path+'clicks_sample.csv')\n",
    "print('dataframe infos :',af.info())\n",
    "print('##----------------------------------##')\n",
    "print('Dataframe columns :',af.columns)\n",
    "print('##----------------------------------##')\n",
    "print(af.shape)\n",
    "af.head(3)"
   ]
  },
  {
   "cell_type": "markdown",
   "metadata": {},
   "source": [
    "### Concatenate all click-files to define one globale dataframe "
   ]
  },
  {
   "cell_type": "code",
   "execution_count": 50,
   "metadata": {},
   "outputs": [
    {
     "name": "stdout",
     "output_type": "stream",
     "text": [
      "shape of global file : (2988181, 13)\n",
      "columns : ['user_id', 'session_id', 'session_start', 'session_size', 'click_article_id', 'click_timestamp', 'click_environment', 'click_deviceGroup', 'click_os', 'click_country', 'click_region', 'click_referrer_type', 'session_file_source']\n"
     ]
    }
   ],
   "source": [
    "# Define all click files main path\n",
    "path_click = path+'clicks/'\n",
    "list_clicks = os.listdir(path_click)\n",
    "\n",
    "trames=[]\n",
    "i = 0\n",
    "for file in list_clicks:\n",
    "    df = pd.read_csv(path_click+file)\n",
    "    df['session_file_source'] = file\n",
    "    trames.append(df)\n",
    "    i = i+1\n",
    "    \n",
    "# Concatenate all files\n",
    "global_df = pd.concat(trames)\n",
    "\n",
    "# get out some specs from global file\n",
    "print('shape of global file :',global_df.shape)\n",
    "print('columns :',list(global_df.columns))\n"
   ]
  },
  {
   "cell_type": "code",
   "execution_count": 51,
   "metadata": {},
   "outputs": [],
   "source": [
    "# Save file to csv format\n",
    "global_df.to_csv('all_clicks_files.csv',index=False)"
   ]
  },
  {
   "cell_type": "code",
   "execution_count": 6,
   "metadata": {},
   "outputs": [
    {
     "data": {
      "text/html": [
       "<div>\n",
       "<style scoped>\n",
       "    .dataframe tbody tr th:only-of-type {\n",
       "        vertical-align: middle;\n",
       "    }\n",
       "\n",
       "    .dataframe tbody tr th {\n",
       "        vertical-align: top;\n",
       "    }\n",
       "\n",
       "    .dataframe thead th {\n",
       "        text-align: right;\n",
       "    }\n",
       "</style>\n",
       "<table border=\"1\" class=\"dataframe\">\n",
       "  <thead>\n",
       "    <tr style=\"text-align: right;\">\n",
       "      <th></th>\n",
       "      <th>user_id</th>\n",
       "      <th>session_id</th>\n",
       "      <th>session_start</th>\n",
       "      <th>session_size</th>\n",
       "      <th>click_article_id</th>\n",
       "      <th>click_timestamp</th>\n",
       "      <th>click_environment</th>\n",
       "      <th>click_deviceGroup</th>\n",
       "      <th>click_os</th>\n",
       "      <th>click_country</th>\n",
       "      <th>click_region</th>\n",
       "      <th>click_referrer_type</th>\n",
       "      <th>session_file_source</th>\n",
       "    </tr>\n",
       "  </thead>\n",
       "  <tbody>\n",
       "    <tr>\n",
       "      <th>0</th>\n",
       "      <td>0</td>\n",
       "      <td>1506825423271737</td>\n",
       "      <td>1506825423000</td>\n",
       "      <td>2</td>\n",
       "      <td>157541</td>\n",
       "      <td>1506826828020</td>\n",
       "      <td>4</td>\n",
       "      <td>3</td>\n",
       "      <td>20</td>\n",
       "      <td>1</td>\n",
       "      <td>20</td>\n",
       "      <td>2</td>\n",
       "      <td>clicks_hour_000.csv</td>\n",
       "    </tr>\n",
       "    <tr>\n",
       "      <th>1</th>\n",
       "      <td>0</td>\n",
       "      <td>1506825423271737</td>\n",
       "      <td>1506825423000</td>\n",
       "      <td>2</td>\n",
       "      <td>68866</td>\n",
       "      <td>1506826858020</td>\n",
       "      <td>4</td>\n",
       "      <td>3</td>\n",
       "      <td>20</td>\n",
       "      <td>1</td>\n",
       "      <td>20</td>\n",
       "      <td>2</td>\n",
       "      <td>clicks_hour_000.csv</td>\n",
       "    </tr>\n",
       "  </tbody>\n",
       "</table>\n",
       "</div>"
      ],
      "text/plain": [
       "   user_id        session_id  session_start  session_size  click_article_id  \\\n",
       "0        0  1506825423271737  1506825423000             2            157541   \n",
       "1        0  1506825423271737  1506825423000             2             68866   \n",
       "\n",
       "   click_timestamp  click_environment  click_deviceGroup  click_os  \\\n",
       "0    1506826828020                  4                  3        20   \n",
       "1    1506826858020                  4                  3        20   \n",
       "\n",
       "   click_country  click_region  click_referrer_type  session_file_source  \n",
       "0              1            20                    2  clicks_hour_000.csv  \n",
       "1              1            20                    2  clicks_hour_000.csv  "
      ]
     },
     "execution_count": 6,
     "metadata": {},
     "output_type": "execute_result"
    }
   ],
   "source": [
    "global_df = pd.read_csv('all_clicks_files.csv')\n",
    "global_df.head(2)"
   ]
  },
  {
   "cell_type": "code",
   "execution_count": 7,
   "metadata": {},
   "outputs": [
    {
     "name": "stdout",
     "output_type": "stream",
     "text": [
      "Unique device group  : [3 1 4 5 2]\n",
      "Unique environment  : [4 2 1]\n",
      "Unique session-size  : [  2   3   7   6   4   5  16   8  10   9  24  11  13  20  12  14  15  42\n",
      "  18  51  26  22  19  27  23  25  21  31  36  37  30  32  17  35  39  29\n",
      "  28  82  57  41  33  75  53  34  52  38  46 106  74  47  71  58  65  98\n",
      "  72  59  43  60  40  48  86  62 124  92  68  44  45  67 107  94  79  56]\n",
      "Unique OS  : [20 17  2 12 13 19  5  3]\n",
      "Unique region  : [20 16 24 21 17 25 12 18 19  6  9 13  8  7 28  5  4 26 15 11 10 27  2  1\n",
      " 14 22  3 23]\n",
      "Unique country  : [ 1 11 10  8  2  4  7  3  9  5  6]\n",
      "Unique referrer type  : [2 1 5 7 6 4 3]\n"
     ]
    }
   ],
   "source": [
    "print('Unique device group  :',global_df['click_deviceGroup'].unique())\n",
    "print('Unique environment  :',global_df['click_environment'].unique())\n",
    "print('Unique session-size  :',global_df['session_size'].unique())\n",
    "print('Unique OS  :',global_df['click_os'].unique())\n",
    "print('Unique region  :',global_df['click_region'].unique())\n",
    "print('Unique country  :',global_df['click_country'].unique())\n",
    "print('Unique referrer type  :',global_df['click_referrer_type'].unique())"
   ]
  },
  {
   "cell_type": "code",
   "execution_count": null,
   "metadata": {},
   "outputs": [],
   "source": []
  },
  {
   "cell_type": "code",
   "execution_count": 8,
   "metadata": {},
   "outputs": [
    {
     "name": "stdout",
     "output_type": "stream",
     "text": [
      "Count of consulted articles : 46033 which represents a ratio of : 12.64 %\n"
     ]
    }
   ],
   "source": [
    "# Ratio of seen atricles within global database\n",
    "print('Count of consulted articles :',len(global_df['click_article_id'].unique()),'which represents a ratio of : %.2f'%(100*len(global_df['click_article_id'].unique())/df_meta.shape[0]),'%')"
   ]
  },
  {
   "cell_type": "markdown",
   "metadata": {},
   "source": [
    "#### Build popularity recommander \n",
    "\n",
    "\n",
    "It is a type of recommendation system which works on the principle of popularity and or anything which is in trend. These systems check about the product or movie which are in trend or are most popular among the users and directly recommend those.\n",
    "\n",
    "For example, if a product is often purchased by most people then the system will get to know that that product is most popular so for every new user who just signed it, the system will recommend that product to that user also and chances becomes high that the new user will also purchase that.\n"
   ]
  },
  {
   "cell_type": "code",
   "execution_count": 9,
   "metadata": {},
   "outputs": [],
   "source": [
    "# Create popularity model\n",
    "def get_popularity_rec(clicks, n_reco=5):\n",
    "    # Compute the five most popular articles\n",
    "    df_popularity = clicks.groupby(by=['click_article_id'])['click_timestamp'].count().sort_values(ascending=False).reset_index()\n",
    "    df_popularity.rename(columns = {'user_id':'popularity'}, inplace=True)\n",
    "    return df_popularity.click_article_id.head(n_reco).to_list()"
   ]
  },
  {
   "cell_type": "code",
   "execution_count": 10,
   "metadata": {},
   "outputs": [
    {
     "data": {
      "text/plain": [
       "[160974, 272143, 336221, 234698, 123909]"
      ]
     },
     "execution_count": 10,
     "metadata": {},
     "output_type": "execute_result"
    }
   ],
   "source": [
    "# Call the function to get the most viewed articles according to users activity\n",
    "# Can be used for new users with no history records on activity\n",
    "get_popularity_rec(global_df, n_reco=5)"
   ]
  },
  {
   "cell_type": "markdown",
   "metadata": {},
   "source": [
    "#### Get the ratings for each article :\n",
    "create a function that will calculate the implicit ratings"
   ]
  },
  {
   "cell_type": "code",
   "execution_count": 5,
   "metadata": {},
   "outputs": [
    {
     "data": {
      "text/html": [
       "<div>\n",
       "<style scoped>\n",
       "    .dataframe tbody tr th:only-of-type {\n",
       "        vertical-align: middle;\n",
       "    }\n",
       "\n",
       "    .dataframe tbody tr th {\n",
       "        vertical-align: top;\n",
       "    }\n",
       "\n",
       "    .dataframe thead th {\n",
       "        text-align: right;\n",
       "    }\n",
       "</style>\n",
       "<table border=\"1\" class=\"dataframe\">\n",
       "  <thead>\n",
       "    <tr style=\"text-align: right;\">\n",
       "      <th></th>\n",
       "      <th>user_id</th>\n",
       "      <th>session_id</th>\n",
       "      <th>session_start</th>\n",
       "      <th>click_article_id</th>\n",
       "      <th>click_timestamp</th>\n",
       "      <th>session_file_source</th>\n",
       "    </tr>\n",
       "  </thead>\n",
       "  <tbody>\n",
       "    <tr>\n",
       "      <th>0</th>\n",
       "      <td>0</td>\n",
       "      <td>1506825423271737</td>\n",
       "      <td>1506825423000</td>\n",
       "      <td>157541</td>\n",
       "      <td>1506826828020</td>\n",
       "      <td>clicks_hour_000.csv</td>\n",
       "    </tr>\n",
       "    <tr>\n",
       "      <th>1</th>\n",
       "      <td>0</td>\n",
       "      <td>1506825423271737</td>\n",
       "      <td>1506825423000</td>\n",
       "      <td>68866</td>\n",
       "      <td>1506826858020</td>\n",
       "      <td>clicks_hour_000.csv</td>\n",
       "    </tr>\n",
       "  </tbody>\n",
       "</table>\n",
       "</div>"
      ],
      "text/plain": [
       "   user_id        session_id  session_start  click_article_id  \\\n",
       "0        0  1506825423271737  1506825423000            157541   \n",
       "1        0  1506825423271737  1506825423000             68866   \n",
       "\n",
       "   click_timestamp  session_file_source  \n",
       "0    1506826828020  clicks_hour_000.csv  \n",
       "1    1506826858020  clicks_hour_000.csv  "
      ]
     },
     "execution_count": 5,
     "metadata": {},
     "output_type": "execute_result"
    }
   ],
   "source": [
    "df = pd.read_csv('all_clicks_files.csv')\n",
    "df.drop(['session_size','click_environment','click_deviceGroup','click_os','click_country','click_region','click_referrer_type'],axis=1,inplace=True)\n",
    "df.head(2)"
   ]
  },
  {
   "cell_type": "code",
   "execution_count": 25,
   "metadata": {},
   "outputs": [],
   "source": [
    "df.drop('session_start',axis=1,inplace=True)"
   ]
  },
  {
   "cell_type": "code",
   "execution_count": 26,
   "metadata": {},
   "outputs": [
    {
     "data": {
      "text/html": [
       "<div>\n",
       "<style scoped>\n",
       "    .dataframe tbody tr th:only-of-type {\n",
       "        vertical-align: middle;\n",
       "    }\n",
       "\n",
       "    .dataframe tbody tr th {\n",
       "        vertical-align: top;\n",
       "    }\n",
       "\n",
       "    .dataframe thead th {\n",
       "        text-align: right;\n",
       "    }\n",
       "</style>\n",
       "<table border=\"1\" class=\"dataframe\">\n",
       "  <thead>\n",
       "    <tr style=\"text-align: right;\">\n",
       "      <th></th>\n",
       "      <th>user_id</th>\n",
       "      <th>session_id</th>\n",
       "      <th>click_article_id</th>\n",
       "      <th>click_timestamp</th>\n",
       "    </tr>\n",
       "  </thead>\n",
       "  <tbody>\n",
       "    <tr>\n",
       "      <th>0</th>\n",
       "      <td>0</td>\n",
       "      <td>1506825423271737</td>\n",
       "      <td>157541</td>\n",
       "      <td>1506826828020</td>\n",
       "    </tr>\n",
       "    <tr>\n",
       "      <th>1</th>\n",
       "      <td>0</td>\n",
       "      <td>1506825423271737</td>\n",
       "      <td>68866</td>\n",
       "      <td>1506826858020</td>\n",
       "    </tr>\n",
       "  </tbody>\n",
       "</table>\n",
       "</div>"
      ],
      "text/plain": [
       "   user_id        session_id  click_article_id  click_timestamp\n",
       "0        0  1506825423271737            157541    1506826828020\n",
       "1        0  1506825423271737             68866    1506826858020"
      ]
     },
     "execution_count": 26,
     "metadata": {},
     "output_type": "execute_result"
    }
   ],
   "source": [
    "df.head(2)"
   ]
  },
  {
   "cell_type": "code",
   "execution_count": 27,
   "metadata": {},
   "outputs": [],
   "source": [
    "df.to_csv('clicks.csv',index=False)"
   ]
  },
  {
   "cell_type": "code",
   "execution_count": 6,
   "metadata": {},
   "outputs": [],
   "source": [
    "def get_ratings(clicks):\n",
    "    ### Compute the rating dataframe providing for each interaction a rating based on the number of clicks per article weighted by the total number of clicks per user\n",
    "    \n",
    "    # Create a dataframe containing the number of clicks for each user and each article    \n",
    "    count_clicks_by_articles_by_user = clicks.groupby([\"user_id\", \"click_article_id\"]).agg(count_clicks_by_articles_by_user=(\"session_id\", \"count\"))\n",
    "    \n",
    "    # Create a dataframe containing the number of clicks for each user   \n",
    "    count_clicks_by_user = clicks.groupby([\"user_id\"]).agg(count_clicks_by_user=(\"session_id\", \"count\"))\n",
    "    \n",
    "    # Compute the weighted ratio of clicks\n",
    "    clicks_count = count_clicks_by_articles_by_user.join(count_clicks_by_user, on=\"user_id\")\n",
    "    clicks_count['rating'] = clicks_count[\"count_clicks_by_articles_by_user\"] / clicks_count[\"count_clicks_by_user\"]\n",
    "    \n",
    "    # Just rename columns\n",
    "    ratings = clicks_count.reset_index().drop([\"count_clicks_by_articles_by_user\",\"count_clicks_by_user\"], axis=1).rename(columns={\"click_article_id\":\"article_id\"})\n",
    "    \n",
    "    return ratings"
   ]
  },
  {
   "cell_type": "code",
   "execution_count": 13,
   "metadata": {},
   "outputs": [
    {
     "data": {
      "text/html": [
       "<div>\n",
       "<style scoped>\n",
       "    .dataframe tbody tr th:only-of-type {\n",
       "        vertical-align: middle;\n",
       "    }\n",
       "\n",
       "    .dataframe tbody tr th {\n",
       "        vertical-align: top;\n",
       "    }\n",
       "\n",
       "    .dataframe thead th {\n",
       "        text-align: right;\n",
       "    }\n",
       "</style>\n",
       "<table border=\"1\" class=\"dataframe\">\n",
       "  <thead>\n",
       "    <tr style=\"text-align: right;\">\n",
       "      <th></th>\n",
       "      <th>user_id</th>\n",
       "      <th>article_id</th>\n",
       "      <th>rating</th>\n",
       "    </tr>\n",
       "  </thead>\n",
       "  <tbody>\n",
       "    <tr>\n",
       "      <th>0</th>\n",
       "      <td>0</td>\n",
       "      <td>68866</td>\n",
       "      <td>0.125</td>\n",
       "    </tr>\n",
       "    <tr>\n",
       "      <th>1</th>\n",
       "      <td>0</td>\n",
       "      <td>87205</td>\n",
       "      <td>0.125</td>\n",
       "    </tr>\n",
       "    <tr>\n",
       "      <th>2</th>\n",
       "      <td>0</td>\n",
       "      <td>87224</td>\n",
       "      <td>0.125</td>\n",
       "    </tr>\n",
       "    <tr>\n",
       "      <th>3</th>\n",
       "      <td>0</td>\n",
       "      <td>96755</td>\n",
       "      <td>0.125</td>\n",
       "    </tr>\n",
       "    <tr>\n",
       "      <th>4</th>\n",
       "      <td>0</td>\n",
       "      <td>157541</td>\n",
       "      <td>0.125</td>\n",
       "    </tr>\n",
       "    <tr>\n",
       "      <th>...</th>\n",
       "      <td>...</td>\n",
       "      <td>...</td>\n",
       "      <td>...</td>\n",
       "    </tr>\n",
       "    <tr>\n",
       "      <th>2950705</th>\n",
       "      <td>322894</td>\n",
       "      <td>168401</td>\n",
       "      <td>0.500</td>\n",
       "    </tr>\n",
       "    <tr>\n",
       "      <th>2950706</th>\n",
       "      <td>322895</td>\n",
       "      <td>63746</td>\n",
       "      <td>0.500</td>\n",
       "    </tr>\n",
       "    <tr>\n",
       "      <th>2950707</th>\n",
       "      <td>322895</td>\n",
       "      <td>289197</td>\n",
       "      <td>0.500</td>\n",
       "    </tr>\n",
       "    <tr>\n",
       "      <th>2950708</th>\n",
       "      <td>322896</td>\n",
       "      <td>30760</td>\n",
       "      <td>0.500</td>\n",
       "    </tr>\n",
       "    <tr>\n",
       "      <th>2950709</th>\n",
       "      <td>322896</td>\n",
       "      <td>157507</td>\n",
       "      <td>0.500</td>\n",
       "    </tr>\n",
       "  </tbody>\n",
       "</table>\n",
       "<p>2950710 rows × 3 columns</p>\n",
       "</div>"
      ],
      "text/plain": [
       "         user_id  article_id  rating\n",
       "0              0       68866   0.125\n",
       "1              0       87205   0.125\n",
       "2              0       87224   0.125\n",
       "3              0       96755   0.125\n",
       "4              0      157541   0.125\n",
       "...          ...         ...     ...\n",
       "2950705   322894      168401   0.500\n",
       "2950706   322895       63746   0.500\n",
       "2950707   322895      289197   0.500\n",
       "2950708   322896       30760   0.500\n",
       "2950709   322896      157507   0.500\n",
       "\n",
       "[2950710 rows x 3 columns]"
      ]
     },
     "execution_count": 13,
     "metadata": {},
     "output_type": "execute_result"
    }
   ],
   "source": [
    "ratings = get_ratings(df)\n",
    "ratings"
   ]
  },
  {
   "cell_type": "code",
   "execution_count": 75,
   "metadata": {},
   "outputs": [],
   "source": [
    "# Create a train and test splits for modeling\n",
    "from sklearn.model_selection import train_test_split\n",
    "train_df, test_df = train_test_split(ratings, train_size=0.8, random_state=31)"
   ]
  },
  {
   "cell_type": "code",
   "execution_count": 14,
   "metadata": {},
   "outputs": [
    {
     "name": "stdout",
     "output_type": "stream",
     "text": [
      "Requirement already satisfied: implicit==0.6.1 in c:\\users\\amc\\desktop\\p9_project\\env\\lib\\site-packages (0.6.1)\n",
      "Requirement already satisfied: tqdm>=4.27 in c:\\users\\amc\\desktop\\p9_project\\env\\lib\\site-packages (from implicit==0.6.1) (4.64.1)\n",
      "Requirement already satisfied: numpy in c:\\users\\amc\\desktop\\p9_project\\env\\lib\\site-packages (from implicit==0.6.1) (1.23.4)\n",
      "Requirement already satisfied: scipy>=0.16 in c:\\users\\amc\\desktop\\p9_project\\env\\lib\\site-packages (from implicit==0.6.1) (1.9.3)\n",
      "Requirement already satisfied: colorama in c:\\users\\amc\\desktop\\p9_project\\env\\lib\\site-packages (from tqdm>=4.27->implicit==0.6.1) (0.4.6)\n",
      "Requirement already satisfied: ipywidgets in c:\\users\\amc\\desktop\\p9_project\\env\\lib\\site-packages (8.0.2)\n",
      "Requirement already satisfied: widgetsnbextension~=4.0 in c:\\users\\amc\\desktop\\p9_project\\env\\lib\\site-packages (from ipywidgets) (4.0.3)\n",
      "Requirement already satisfied: jupyterlab-widgets~=3.0 in c:\\users\\amc\\desktop\\p9_project\\env\\lib\\site-packages (from ipywidgets) (3.0.3)\n",
      "Requirement already satisfied: ipykernel>=4.5.1 in c:\\users\\amc\\desktop\\p9_project\\env\\lib\\site-packages (from ipywidgets) (6.17.1)\n",
      "Requirement already satisfied: traitlets>=4.3.1 in c:\\users\\amc\\desktop\\p9_project\\env\\lib\\site-packages (from ipywidgets) (5.5.0)\n",
      "Requirement already satisfied: ipython>=6.1.0 in c:\\users\\amc\\desktop\\p9_project\\env\\lib\\site-packages (from ipywidgets) (8.6.0)\n",
      "Requirement already satisfied: matplotlib-inline>=0.1 in c:\\users\\amc\\desktop\\p9_project\\env\\lib\\site-packages (from ipykernel>=4.5.1->ipywidgets) (0.1.6)\n",
      "Requirement already satisfied: packaging in c:\\users\\amc\\desktop\\p9_project\\env\\lib\\site-packages (from ipykernel>=4.5.1->ipywidgets) (21.3)\n",
      "Requirement already satisfied: psutil in c:\\users\\amc\\desktop\\p9_project\\env\\lib\\site-packages (from ipykernel>=4.5.1->ipywidgets) (5.9.4)\n",
      "Requirement already satisfied: jupyter-client>=6.1.12 in c:\\users\\amc\\desktop\\p9_project\\env\\lib\\site-packages (from ipykernel>=4.5.1->ipywidgets) (7.4.5)\n",
      "Requirement already satisfied: pyzmq>=17 in c:\\users\\amc\\desktop\\p9_project\\env\\lib\\site-packages (from ipykernel>=4.5.1->ipywidgets) (24.0.1)\n",
      "Requirement already satisfied: tornado>=6.1 in c:\\users\\amc\\desktop\\p9_project\\env\\lib\\site-packages (from ipykernel>=4.5.1->ipywidgets) (6.2)\n",
      "Requirement already satisfied: debugpy>=1.0 in c:\\users\\amc\\desktop\\p9_project\\env\\lib\\site-packages (from ipykernel>=4.5.1->ipywidgets) (1.6.3)\n",
      "Requirement already satisfied: nest-asyncio in c:\\users\\amc\\desktop\\p9_project\\env\\lib\\site-packages (from ipykernel>=4.5.1->ipywidgets) (1.5.6)\n",
      "Requirement already satisfied: decorator in c:\\users\\amc\\desktop\\p9_project\\env\\lib\\site-packages (from ipython>=6.1.0->ipywidgets) (5.1.1)\n",
      "Requirement already satisfied: jedi>=0.16 in c:\\users\\amc\\desktop\\p9_project\\env\\lib\\site-packages (from ipython>=6.1.0->ipywidgets) (0.18.1)\n",
      "Requirement already satisfied: pygments>=2.4.0 in c:\\users\\amc\\desktop\\p9_project\\env\\lib\\site-packages (from ipython>=6.1.0->ipywidgets) (2.13.0)\n",
      "Requirement already satisfied: pickleshare in c:\\users\\amc\\desktop\\p9_project\\env\\lib\\site-packages (from ipython>=6.1.0->ipywidgets) (0.7.5)\n",
      "Requirement already satisfied: stack-data in c:\\users\\amc\\desktop\\p9_project\\env\\lib\\site-packages (from ipython>=6.1.0->ipywidgets) (0.6.1)\n",
      "Requirement already satisfied: colorama in c:\\users\\amc\\desktop\\p9_project\\env\\lib\\site-packages (from ipython>=6.1.0->ipywidgets) (0.4.6)\n",
      "Requirement already satisfied: backcall in c:\\users\\amc\\desktop\\p9_project\\env\\lib\\site-packages (from ipython>=6.1.0->ipywidgets) (0.2.0)\n",
      "Requirement already satisfied: prompt-toolkit<3.1.0,>3.0.1 in c:\\users\\amc\\desktop\\p9_project\\env\\lib\\site-packages (from ipython>=6.1.0->ipywidgets) (3.0.32)\n",
      "Requirement already satisfied: parso<0.9.0,>=0.8.0 in c:\\users\\amc\\desktop\\p9_project\\env\\lib\\site-packages (from jedi>=0.16->ipython>=6.1.0->ipywidgets) (0.8.3)\n",
      "Requirement already satisfied: jupyter-core>=4.9.2 in c:\\users\\amc\\desktop\\p9_project\\env\\lib\\site-packages (from jupyter-client>=6.1.12->ipykernel>=4.5.1->ipywidgets) (5.0.0)\n",
      "Requirement already satisfied: entrypoints in c:\\users\\amc\\desktop\\p9_project\\env\\lib\\site-packages (from jupyter-client>=6.1.12->ipykernel>=4.5.1->ipywidgets) (0.4)\n",
      "Requirement already satisfied: python-dateutil>=2.8.2 in c:\\users\\amc\\desktop\\p9_project\\env\\lib\\site-packages (from jupyter-client>=6.1.12->ipykernel>=4.5.1->ipywidgets) (2.8.2)\n",
      "Requirement already satisfied: wcwidth in c:\\users\\amc\\desktop\\p9_project\\env\\lib\\site-packages (from prompt-toolkit<3.1.0,>3.0.1->ipython>=6.1.0->ipywidgets) (0.2.5)\n",
      "Requirement already satisfied: pyparsing!=3.0.5,>=2.0.2 in c:\\users\\amc\\desktop\\p9_project\\env\\lib\\site-packages (from packaging->ipykernel>=4.5.1->ipywidgets) (3.0.9)\n",
      "Requirement already satisfied: executing>=1.2.0 in c:\\users\\amc\\desktop\\p9_project\\env\\lib\\site-packages (from stack-data->ipython>=6.1.0->ipywidgets) (1.2.0)\n",
      "Requirement already satisfied: pure-eval in c:\\users\\amc\\desktop\\p9_project\\env\\lib\\site-packages (from stack-data->ipython>=6.1.0->ipywidgets) (0.2.2)\n",
      "Requirement already satisfied: asttokens>=2.1.0 in c:\\users\\amc\\desktop\\p9_project\\env\\lib\\site-packages (from stack-data->ipython>=6.1.0->ipywidgets) (2.1.0)\n",
      "Requirement already satisfied: six in c:\\users\\amc\\desktop\\p9_project\\env\\lib\\site-packages (from asttokens>=2.1.0->stack-data->ipython>=6.1.0->ipywidgets) (1.16.0)\n",
      "Requirement already satisfied: platformdirs in c:\\users\\amc\\desktop\\p9_project\\env\\lib\\site-packages (from jupyter-core>=4.9.2->jupyter-client>=6.1.12->ipykernel>=4.5.1->ipywidgets) (2.5.4)\n",
      "Requirement already satisfied: pywin32>=1.0 in c:\\users\\amc\\desktop\\p9_project\\env\\lib\\site-packages (from jupyter-core>=4.9.2->jupyter-client>=6.1.12->ipykernel>=4.5.1->ipywidgets) (305)\n"
     ]
    }
   ],
   "source": [
    "# Install Implicit library\n",
    "!pip install implicit==0.6.1\n",
    "!pip install ipywidgets"
   ]
  },
  {
   "cell_type": "code",
   "execution_count": 4,
   "metadata": {},
   "outputs": [],
   "source": [
    "from scipy.sparse import csr_matrix\n",
    "from sklearn.model_selection import train_test_split\n",
    "\n",
    "from tqdm import tqdm\n",
    "\n",
    "from implicit.als import AlternatingLeastSquares\n",
    "from implicit.bpr import BayesianPersonalizedRanking\n",
    "from implicit.lmf import LogisticMatrixFactorization\n",
    "from implicit.evaluation import precision_at_k, mean_average_precision_at_k, ndcg_at_k, AUC_at_k\n",
    "\n",
    "from time import time"
   ]
  },
  {
   "cell_type": "markdown",
   "metadata": {},
   "source": [
    "To understand the metrics used :\n",
    "\n",
    "https://machinelearninginterview.com/topics/machine-learning/mapatk_evaluation_metric_for_ranking/"
   ]
  },
  {
   "cell_type": "code",
   "execution_count": 20,
   "metadata": {},
   "outputs": [],
   "source": [
    "def train_models(train_df, test_df, models_list, n_recommandations):\n",
    "    \n",
    "    '''\n",
    "    Train recommendation models and provide evaluation metrics.\n",
    "\n",
    "            Parameters:\n",
    "                    train_df (Pandas Dataframe): Dataframe containing training interactions datas\n",
    "                    test_df (Pandas Dataframe): Dataframe containing test interactions datas\n",
    "                    models_list (List) : Python List containing models to be evaluated\n",
    "                    n_recommandations (Int) : Integer representing the number of recommandations to provide\n",
    "\n",
    "\n",
    "            Returns:\n",
    "                    df_results (Pandas Dataframe): Dataframe containing the results of evaluation performed on the models\n",
    "    '''\n",
    "    \n",
    "    # First, let's initialize a blank results dataframe \n",
    "    # Each column correspond to the evaluation metrics to use\n",
    "    df_results = pd.DataFrame(columns=['model', 'Precision@k','MAP@k','nDCG@k',\"train_time\"])\n",
    "    \n",
    "    # Get dimensions of the sparse matrix    \n",
    "    dim = (max(train_df.user_id.max(),test_df.user_id.max())+1, max(train_df.article_id.max(),test_df.article_id.max())+1)\n",
    "    \n",
    "    # Creating sparse matrix for train and test dataframe\n",
    "    # Why creating sparse matrix ? : because it is the data format expected by Implicit\n",
    "    train_csr = csr_matrix((train_df['rating'], (train_df['user_id'], train_df['article_id'])), dim)\n",
    "    test_csr = csr_matrix((test_df['rating'], (test_df['user_id'], test_df['article_id'])), dim)\n",
    "    \n",
    "    # Iterate over each models to evaluate in the list\n",
    "    for model in models_list:\n",
    "        \n",
    "        print(\"##\"*30)\n",
    "        print(\"[INFO] : Start training the model : \", model.__class__.__name__)\n",
    "        \n",
    "        # Launch the timer\n",
    "        train_start_time = time()\n",
    "        \n",
    "        # Train the choosen model\n",
    "        model.fit(train_csr)\n",
    "        \n",
    "        # Stop the timer and calculate the training time\n",
    "        train_time = time() - train_start_time\n",
    "              \n",
    "        # Calculate evaluation metrics        \n",
    "        precision_k = round(precision_at_k(model, train_csr, test_csr), 5)\n",
    "        map_at_k = round(mean_average_precision_at_k(model, train_csr, test_csr), 5)\n",
    "        ndcg_k = round(ndcg_at_k(model, train_csr, test_csr), 5)\n",
    "        print(\"[INFO] : Precision@k = \", precision_k)\n",
    "        print(\"[INFO] : MAP@k = \", map_at_k)\n",
    "        print(\"[INFO] : nDCG@k = \", ndcg_k)\n",
    "        print(\"##\"*30)\n",
    "        \n",
    "        # Log results in the results dataframe\n",
    "        \n",
    "        df_results = df_results.append({\n",
    "            'model': model.__class__.__name__,\n",
    "            'Precision@k': precision_k,\n",
    "            'MAP@k': map_at_k,\n",
    "            'nDCG@k': ndcg_k,\n",
    "            'train_time': round(train_time,5),\n",
    "        }, ignore_index=True)\n",
    "        \n",
    "    return df_results"
   ]
  },
  {
   "cell_type": "code",
   "execution_count": 21,
   "metadata": {},
   "outputs": [],
   "source": [
    "# Define models\n",
    "models_list = [AlternatingLeastSquares(), BayesianPersonalizedRanking(), LogisticMatrixFactorization()]"
   ]
  },
  {
   "cell_type": "code",
   "execution_count": 84,
   "metadata": {},
   "outputs": [
    {
     "name": "stdout",
     "output_type": "stream",
     "text": [
      "############################################################\n",
      "[INFO] : Start training the model :  AlternatingLeastSquares\n"
     ]
    },
    {
     "name": "stderr",
     "output_type": "stream",
     "text": [
      "100%|██████████| 15/15 [05:05<00:00, 20.37s/it]\n",
      "100%|██████████| 209671/209671 [06:25<00:00, 543.80it/s]\n",
      "100%|██████████| 209671/209671 [06:39<00:00, 525.25it/s]\n",
      "100%|██████████| 209671/209671 [06:24<00:00, 545.28it/s]\n",
      "C:\\Users\\AMC\\AppData\\Local\\Temp\\ipykernel_22604\\4285575009.py:55: FutureWarning: The frame.append method is deprecated and will be removed from pandas in a future version. Use pandas.concat instead.\n",
      "  df_results = df_results.append({\n"
     ]
    },
    {
     "name": "stdout",
     "output_type": "stream",
     "text": [
      "[INFO] : Precision@k =  0.10099\n",
      "[INFO] : MAP@k =  0.06523\n",
      "[INFO] : nDCG@k =  0.0932\n",
      "############################################################\n",
      "############################################################\n",
      "[INFO] : Start training the model :  BayesianPersonalizedRanking\n"
     ]
    },
    {
     "name": "stderr",
     "output_type": "stream",
     "text": [
      "100%|██████████| 100/100 [01:13<00:00,  1.35it/s, train_auc=94.99%, skipped=4.03%]\n",
      "100%|██████████| 209671/209671 [05:50<00:00, 598.61it/s]\n",
      "100%|██████████| 209671/209671 [05:42<00:00, 612.65it/s]\n",
      "100%|██████████| 209671/209671 [05:38<00:00, 619.52it/s]\n",
      "C:\\Users\\AMC\\AppData\\Local\\Temp\\ipykernel_22604\\4285575009.py:55: FutureWarning: The frame.append method is deprecated and will be removed from pandas in a future version. Use pandas.concat instead.\n",
      "  df_results = df_results.append({\n"
     ]
    },
    {
     "name": "stdout",
     "output_type": "stream",
     "text": [
      "[INFO] : Precision@k =  0.12337\n",
      "[INFO] : MAP@k =  0.08388\n",
      "[INFO] : nDCG@k =  0.11816\n",
      "############################################################\n",
      "############################################################\n",
      "[INFO] : Start training the model :  LogisticMatrixFactorization\n"
     ]
    },
    {
     "name": "stderr",
     "output_type": "stream",
     "text": [
      "100%|██████████| 30/30 [00:50<00:00,  1.69s/it]\n",
      "100%|██████████| 209671/209671 [04:45<00:00, 734.49it/s]\n",
      "100%|██████████| 209671/209671 [05:33<00:00, 629.25it/s]\n",
      "100%|██████████| 209671/209671 [05:51<00:00, 597.31it/s]"
     ]
    },
    {
     "name": "stdout",
     "output_type": "stream",
     "text": [
      "[INFO] : Precision@k =  0.0313\n",
      "[INFO] : MAP@k =  0.01085\n",
      "[INFO] : nDCG@k =  0.01985\n",
      "############################################################\n"
     ]
    },
    {
     "name": "stderr",
     "output_type": "stream",
     "text": [
      "\n",
      "C:\\Users\\AMC\\AppData\\Local\\Temp\\ipykernel_22604\\4285575009.py:55: FutureWarning: The frame.append method is deprecated and will be removed from pandas in a future version. Use pandas.concat instead.\n",
      "  df_results = df_results.append({\n"
     ]
    },
    {
     "data": {
      "text/html": [
       "<div>\n",
       "<style scoped>\n",
       "    .dataframe tbody tr th:only-of-type {\n",
       "        vertical-align: middle;\n",
       "    }\n",
       "\n",
       "    .dataframe tbody tr th {\n",
       "        vertical-align: top;\n",
       "    }\n",
       "\n",
       "    .dataframe thead th {\n",
       "        text-align: right;\n",
       "    }\n",
       "</style>\n",
       "<table border=\"1\" class=\"dataframe\">\n",
       "  <thead>\n",
       "    <tr style=\"text-align: right;\">\n",
       "      <th></th>\n",
       "      <th>model</th>\n",
       "      <th>Precision@k</th>\n",
       "      <th>MAP@k</th>\n",
       "      <th>nDCG@k</th>\n",
       "      <th>train_time</th>\n",
       "    </tr>\n",
       "  </thead>\n",
       "  <tbody>\n",
       "    <tr>\n",
       "      <th>0</th>\n",
       "      <td>AlternatingLeastSquares</td>\n",
       "      <td>0.10099</td>\n",
       "      <td>0.06523</td>\n",
       "      <td>0.09320</td>\n",
       "      <td>309.36034</td>\n",
       "    </tr>\n",
       "    <tr>\n",
       "      <th>1</th>\n",
       "      <td>BayesianPersonalizedRanking</td>\n",
       "      <td>0.12337</td>\n",
       "      <td>0.08388</td>\n",
       "      <td>0.11816</td>\n",
       "      <td>75.19970</td>\n",
       "    </tr>\n",
       "    <tr>\n",
       "      <th>2</th>\n",
       "      <td>LogisticMatrixFactorization</td>\n",
       "      <td>0.03130</td>\n",
       "      <td>0.01085</td>\n",
       "      <td>0.01985</td>\n",
       "      <td>52.10852</td>\n",
       "    </tr>\n",
       "  </tbody>\n",
       "</table>\n",
       "</div>"
      ],
      "text/plain": [
       "                         model  Precision@k    MAP@k   nDCG@k  train_time\n",
       "0      AlternatingLeastSquares      0.10099  0.06523  0.09320   309.36034\n",
       "1  BayesianPersonalizedRanking      0.12337  0.08388  0.11816    75.19970\n",
       "2  LogisticMatrixFactorization      0.03130  0.01085  0.01985    52.10852"
      ]
     },
     "execution_count": 84,
     "metadata": {},
     "output_type": "execute_result"
    }
   ],
   "source": [
    "# Launch models training \n",
    "train_models(train_df          = train_df,\n",
    "             test_df           = test_df, \n",
    "             models_list       = models_list, \n",
    "             n_recommandations = 5)"
   ]
  },
  {
   "cell_type": "markdown",
   "metadata": {},
   "source": [
    "#### Train with a ratio of global df"
   ]
  },
  {
   "cell_type": "code",
   "execution_count": 22,
   "metadata": {},
   "outputs": [
    {
     "name": "stdout",
     "output_type": "stream",
     "text": [
      "(147536, 3)\n"
     ]
    },
    {
     "data": {
      "text/html": [
       "<div>\n",
       "<style scoped>\n",
       "    .dataframe tbody tr th:only-of-type {\n",
       "        vertical-align: middle;\n",
       "    }\n",
       "\n",
       "    .dataframe tbody tr th {\n",
       "        vertical-align: top;\n",
       "    }\n",
       "\n",
       "    .dataframe thead th {\n",
       "        text-align: right;\n",
       "    }\n",
       "</style>\n",
       "<table border=\"1\" class=\"dataframe\">\n",
       "  <thead>\n",
       "    <tr style=\"text-align: right;\">\n",
       "      <th></th>\n",
       "      <th>user_id</th>\n",
       "      <th>article_id</th>\n",
       "      <th>rating</th>\n",
       "    </tr>\n",
       "  </thead>\n",
       "  <tbody>\n",
       "    <tr>\n",
       "      <th>2936274</th>\n",
       "      <td>317101</td>\n",
       "      <td>199393</td>\n",
       "      <td>0.500000</td>\n",
       "    </tr>\n",
       "    <tr>\n",
       "      <th>1620248</th>\n",
       "      <td>99395</td>\n",
       "      <td>59758</td>\n",
       "      <td>0.500000</td>\n",
       "    </tr>\n",
       "    <tr>\n",
       "      <th>612201</th>\n",
       "      <td>31691</td>\n",
       "      <td>293050</td>\n",
       "      <td>0.016393</td>\n",
       "    </tr>\n",
       "    <tr>\n",
       "      <th>1525674</th>\n",
       "      <td>90863</td>\n",
       "      <td>32750</td>\n",
       "      <td>0.076923</td>\n",
       "    </tr>\n",
       "    <tr>\n",
       "      <th>1100500</th>\n",
       "      <td>60312</td>\n",
       "      <td>236524</td>\n",
       "      <td>0.050000</td>\n",
       "    </tr>\n",
       "  </tbody>\n",
       "</table>\n",
       "</div>"
      ],
      "text/plain": [
       "         user_id  article_id    rating\n",
       "2936274   317101      199393  0.500000\n",
       "1620248    99395       59758  0.500000\n",
       "612201     31691      293050  0.016393\n",
       "1525674    90863       32750  0.076923\n",
       "1100500    60312      236524  0.050000"
      ]
     },
     "execution_count": 22,
     "metadata": {},
     "output_type": "execute_result"
    }
   ],
   "source": [
    "SAMPLE_RATIO = 0.05\n",
    "ratings_sample = ratings.sample(frac=SAMPLE_RATIO, random_state=8989)\n",
    "print(ratings_sample.shape)\n",
    "ratings_sample.head()"
   ]
  },
  {
   "cell_type": "code",
   "execution_count": 23,
   "metadata": {},
   "outputs": [],
   "source": [
    "train_df_ratio, test_df_ratio = train_test_split(ratings_sample, train_size=0.8, random_state=31)"
   ]
  },
  {
   "cell_type": "code",
   "execution_count": 24,
   "metadata": {},
   "outputs": [
    {
     "name": "stdout",
     "output_type": "stream",
     "text": [
      "(118028, 3)\n",
      "(29508, 3)\n"
     ]
    }
   ],
   "source": [
    "print(train_df_ratio.shape)\n",
    "print(test_df_ratio.shape)"
   ]
  },
  {
   "cell_type": "code",
   "execution_count": 29,
   "metadata": {},
   "outputs": [
    {
     "name": "stdout",
     "output_type": "stream",
     "text": [
      "############################################################\n",
      "[INFO] : Start training the model :  AlternatingLeastSquares\n"
     ]
    },
    {
     "data": {
      "application/vnd.jupyter.widget-view+json": {
       "model_id": "a02511c21ce84098a6655e9481c50d9d",
       "version_major": 2,
       "version_minor": 0
      },
      "text/plain": [
       "  0%|          | 0/15 [00:00<?, ?it/s]"
      ]
     },
     "metadata": {},
     "output_type": "display_data"
    },
    {
     "data": {
      "application/vnd.jupyter.widget-view+json": {
       "model_id": "35804fd53c2c4131b89ec046383c40f6",
       "version_major": 2,
       "version_minor": 0
      },
      "text/plain": [
       "  0%|          | 0/25966 [00:00<?, ?it/s]"
      ]
     },
     "metadata": {},
     "output_type": "display_data"
    },
    {
     "data": {
      "application/vnd.jupyter.widget-view+json": {
       "model_id": "5e47f4da77854cbcabe9d9f3fdd81d5f",
       "version_major": 2,
       "version_minor": 0
      },
      "text/plain": [
       "  0%|          | 0/25966 [00:00<?, ?it/s]"
      ]
     },
     "metadata": {},
     "output_type": "display_data"
    },
    {
     "data": {
      "application/vnd.jupyter.widget-view+json": {
       "model_id": "201e816b744743a6990cca837471c699",
       "version_major": 2,
       "version_minor": 0
      },
      "text/plain": [
       "  0%|          | 0/25966 [00:00<?, ?it/s]"
      ]
     },
     "metadata": {},
     "output_type": "display_data"
    },
    {
     "name": "stdout",
     "output_type": "stream",
     "text": [
      "[INFO] : Precision@k =  0.01732\n",
      "[INFO] : MAP@k =  0.00594\n",
      "[INFO] : nDCG@k =  0.00874\n",
      "############################################################\n",
      "############################################################\n",
      "[INFO] : Start training the model :  BayesianPersonalizedRanking\n"
     ]
    },
    {
     "name": "stderr",
     "output_type": "stream",
     "text": [
      "C:\\Users\\AMC\\AppData\\Local\\Temp\\ipykernel_9920\\4285575009.py:55: FutureWarning: The frame.append method is deprecated and will be removed from pandas in a future version. Use pandas.concat instead.\n",
      "  df_results = df_results.append({\n"
     ]
    },
    {
     "data": {
      "application/vnd.jupyter.widget-view+json": {
       "model_id": "722aa5db46734c3398d2893b6bf196f7",
       "version_major": 2,
       "version_minor": 0
      },
      "text/plain": [
       "  0%|          | 0/100 [00:00<?, ?it/s]"
      ]
     },
     "metadata": {},
     "output_type": "display_data"
    },
    {
     "data": {
      "application/vnd.jupyter.widget-view+json": {
       "model_id": "1c0d3e386b114088bde9eb868d51b7f1",
       "version_major": 2,
       "version_minor": 0
      },
      "text/plain": [
       "  0%|          | 0/25966 [00:00<?, ?it/s]"
      ]
     },
     "metadata": {},
     "output_type": "display_data"
    },
    {
     "data": {
      "application/vnd.jupyter.widget-view+json": {
       "model_id": "df11d805e9654f67812ec2b09dc05b28",
       "version_major": 2,
       "version_minor": 0
      },
      "text/plain": [
       "  0%|          | 0/25966 [00:00<?, ?it/s]"
      ]
     },
     "metadata": {},
     "output_type": "display_data"
    },
    {
     "data": {
      "application/vnd.jupyter.widget-view+json": {
       "model_id": "deae628d87a74667aca85aa5c3369e41",
       "version_major": 2,
       "version_minor": 0
      },
      "text/plain": [
       "  0%|          | 0/25966 [00:00<?, ?it/s]"
      ]
     },
     "metadata": {},
     "output_type": "display_data"
    },
    {
     "name": "stdout",
     "output_type": "stream",
     "text": [
      "[INFO] : Precision@k =  0.00288\n",
      "[INFO] : MAP@k =  0.00125\n",
      "[INFO] : nDCG@k =  0.00165\n",
      "############################################################\n",
      "############################################################\n",
      "[INFO] : Start training the model :  LogisticMatrixFactorization\n"
     ]
    },
    {
     "name": "stderr",
     "output_type": "stream",
     "text": [
      "C:\\Users\\AMC\\AppData\\Local\\Temp\\ipykernel_9920\\4285575009.py:55: FutureWarning: The frame.append method is deprecated and will be removed from pandas in a future version. Use pandas.concat instead.\n",
      "  df_results = df_results.append({\n"
     ]
    },
    {
     "data": {
      "application/vnd.jupyter.widget-view+json": {
       "model_id": "e3dee899c7ed4580be92493422144496",
       "version_major": 2,
       "version_minor": 0
      },
      "text/plain": [
       "  0%|          | 0/30 [00:00<?, ?it/s]"
      ]
     },
     "metadata": {},
     "output_type": "display_data"
    },
    {
     "data": {
      "application/vnd.jupyter.widget-view+json": {
       "model_id": "8f375d22e5b54e47a558e48d251ea125",
       "version_major": 2,
       "version_minor": 0
      },
      "text/plain": [
       "  0%|          | 0/25966 [00:00<?, ?it/s]"
      ]
     },
     "metadata": {},
     "output_type": "display_data"
    },
    {
     "data": {
      "application/vnd.jupyter.widget-view+json": {
       "model_id": "d69e94ee70944dc1894bf5f5a9e1db00",
       "version_major": 2,
       "version_minor": 0
      },
      "text/plain": [
       "  0%|          | 0/25966 [00:00<?, ?it/s]"
      ]
     },
     "metadata": {},
     "output_type": "display_data"
    },
    {
     "data": {
      "application/vnd.jupyter.widget-view+json": {
       "model_id": "59a26daf41f045db9a578ea59da15a99",
       "version_major": 2,
       "version_minor": 0
      },
      "text/plain": [
       "  0%|          | 0/25966 [00:00<?, ?it/s]"
      ]
     },
     "metadata": {},
     "output_type": "display_data"
    },
    {
     "name": "stdout",
     "output_type": "stream",
     "text": [
      "[INFO] : Precision@k =  0.06721\n",
      "[INFO] : MAP@k =  0.02346\n",
      "[INFO] : nDCG@k =  0.03473\n",
      "############################################################\n"
     ]
    },
    {
     "name": "stderr",
     "output_type": "stream",
     "text": [
      "C:\\Users\\AMC\\AppData\\Local\\Temp\\ipykernel_9920\\4285575009.py:55: FutureWarning: The frame.append method is deprecated and will be removed from pandas in a future version. Use pandas.concat instead.\n",
      "  df_results = df_results.append({\n"
     ]
    },
    {
     "data": {
      "text/html": [
       "<div>\n",
       "<style scoped>\n",
       "    .dataframe tbody tr th:only-of-type {\n",
       "        vertical-align: middle;\n",
       "    }\n",
       "\n",
       "    .dataframe tbody tr th {\n",
       "        vertical-align: top;\n",
       "    }\n",
       "\n",
       "    .dataframe thead th {\n",
       "        text-align: right;\n",
       "    }\n",
       "</style>\n",
       "<table border=\"1\" class=\"dataframe\">\n",
       "  <thead>\n",
       "    <tr style=\"text-align: right;\">\n",
       "      <th></th>\n",
       "      <th>model</th>\n",
       "      <th>Precision@k</th>\n",
       "      <th>MAP@k</th>\n",
       "      <th>nDCG@k</th>\n",
       "      <th>train_time</th>\n",
       "    </tr>\n",
       "  </thead>\n",
       "  <tbody>\n",
       "    <tr>\n",
       "      <th>0</th>\n",
       "      <td>AlternatingLeastSquares</td>\n",
       "      <td>0.01732</td>\n",
       "      <td>0.00594</td>\n",
       "      <td>0.00874</td>\n",
       "      <td>64.59176</td>\n",
       "    </tr>\n",
       "    <tr>\n",
       "      <th>1</th>\n",
       "      <td>BayesianPersonalizedRanking</td>\n",
       "      <td>0.00288</td>\n",
       "      <td>0.00125</td>\n",
       "      <td>0.00165</td>\n",
       "      <td>5.96202</td>\n",
       "    </tr>\n",
       "    <tr>\n",
       "      <th>2</th>\n",
       "      <td>LogisticMatrixFactorization</td>\n",
       "      <td>0.06721</td>\n",
       "      <td>0.02346</td>\n",
       "      <td>0.03473</td>\n",
       "      <td>12.17533</td>\n",
       "    </tr>\n",
       "  </tbody>\n",
       "</table>\n",
       "</div>"
      ],
      "text/plain": [
       "                         model  Precision@k    MAP@k   nDCG@k  train_time\n",
       "0      AlternatingLeastSquares      0.01732  0.00594  0.00874    64.59176\n",
       "1  BayesianPersonalizedRanking      0.00288  0.00125  0.00165     5.96202\n",
       "2  LogisticMatrixFactorization      0.06721  0.02346  0.03473    12.17533"
      ]
     },
     "execution_count": 29,
     "metadata": {},
     "output_type": "execute_result"
    }
   ],
   "source": [
    "train_models(train_df          = train_df_ratio,\n",
    "             test_df           = test_df_ratio, \n",
    "             models_list       = models_list, \n",
    "             n_recommandations = 5)"
   ]
  },
  {
   "cell_type": "markdown",
   "metadata": {},
   "source": [
    "The most efficient model is LaogisticMatrixFactorisation and we will use it for further modeling"
   ]
  },
  {
   "cell_type": "code",
   "execution_count": 17,
   "metadata": {},
   "outputs": [
    {
     "data": {
      "text/html": [
       "<div>\n",
       "<style scoped>\n",
       "    .dataframe tbody tr th:only-of-type {\n",
       "        vertical-align: middle;\n",
       "    }\n",
       "\n",
       "    .dataframe tbody tr th {\n",
       "        vertical-align: top;\n",
       "    }\n",
       "\n",
       "    .dataframe thead th {\n",
       "        text-align: right;\n",
       "    }\n",
       "</style>\n",
       "<table border=\"1\" class=\"dataframe\">\n",
       "  <thead>\n",
       "    <tr style=\"text-align: right;\">\n",
       "      <th></th>\n",
       "      <th>user_id</th>\n",
       "      <th>session_id</th>\n",
       "      <th>session_start</th>\n",
       "      <th>click_article_id</th>\n",
       "      <th>click_timestamp</th>\n",
       "      <th>session_file_source</th>\n",
       "    </tr>\n",
       "  </thead>\n",
       "  <tbody>\n",
       "    <tr>\n",
       "      <th>0</th>\n",
       "      <td>0</td>\n",
       "      <td>1506825423271737</td>\n",
       "      <td>1506825423000</td>\n",
       "      <td>157541</td>\n",
       "      <td>1506826828020</td>\n",
       "      <td>clicks_hour_000.csv</td>\n",
       "    </tr>\n",
       "    <tr>\n",
       "      <th>1</th>\n",
       "      <td>0</td>\n",
       "      <td>1506825423271737</td>\n",
       "      <td>1506825423000</td>\n",
       "      <td>68866</td>\n",
       "      <td>1506826858020</td>\n",
       "      <td>clicks_hour_000.csv</td>\n",
       "    </tr>\n",
       "  </tbody>\n",
       "</table>\n",
       "</div>"
      ],
      "text/plain": [
       "   user_id        session_id  session_start  click_article_id  \\\n",
       "0        0  1506825423271737  1506825423000            157541   \n",
       "1        0  1506825423271737  1506825423000             68866   \n",
       "\n",
       "   click_timestamp  session_file_source  \n",
       "0    1506826828020  clicks_hour_000.csv  \n",
       "1    1506826858020  clicks_hour_000.csv  "
      ]
     },
     "execution_count": 17,
     "metadata": {},
     "output_type": "execute_result"
    }
   ],
   "source": [
    "df.head(2)"
   ]
  },
  {
   "cell_type": "code",
   "execution_count": 2,
   "metadata": {},
   "outputs": [],
   "source": [
    "import pickle\n",
    "\n",
    "def compute_interaction_matrix(clicks):\n",
    "    # Create interaction DF (count of interactions between users and articles)\n",
    "    interactions = clicks.groupby(['user_id','click_article_id']).size().reset_index(name='count')\n",
    "    # print('Interactions DF shape: ', interactions.shape)\n",
    "\n",
    "    # csr = compressed sparse row (good format for math operations with row slicing)\n",
    "    # Create sparse matrix of shape (number_items, number_user)\n",
    "    csr_item_user = csr_matrix((interactions['count'].astype(float),\n",
    "                                (interactions['click_article_id'],\n",
    "                                 interactions['user_id'])))\n",
    "    # print('CSR Shape (number_items, number_user): ', csr_item_user.shape)\n",
    "    \n",
    "    # Create sparse matrix of shape (number_user, number_items)\n",
    "    csr_user_item = csr_matrix((interactions['count'].astype(float),\n",
    "                                (interactions['user_id'],\n",
    "                                 interactions['click_article_id'])))\n",
    "    # print('CSR Shape (number_user, number_items): ', csr_user_item.shape)\n",
    "    \n",
    "    return csr_item_user, csr_user_item"
   ]
  },
  {
   "cell_type": "code",
   "execution_count": 17,
   "metadata": {},
   "outputs": [],
   "source": [
    "def get_cf_reco(clicks, userID, csr_item_user, csr_user_item, model_path=None, n_reco=5, train=True):\n",
    "    \n",
    "    start = time()\n",
    "    # Train the model on sparse matrix of shape (number_items, number_user)\n",
    "    \n",
    "    if train or model_path is None:\n",
    "        model = LogisticMatrixFactorization(factors= 128, random_state=42)\n",
    "        print(\"[INFO] : Start training model\")\n",
    "        model.fit(csr_user_item)\n",
    "\n",
    "        # Save model to disk\n",
    "        with open('recommender.model', 'wb') as filehandle:\n",
    "            pickle.dump(model, filehandle)\n",
    "    else:\n",
    "        with open('recommender.model', 'rb') as filehandle:\n",
    "            model = pickle.load(filehandle)\n",
    "\n",
    "    # Recommend N best items from sparse matrix of shape (number_user, number_items)\n",
    "    # Implicit built-in method\n",
    "    # N (int) : number of results to return\n",
    "    # filter_already_liked_items (bool) : if true, don't return items present in \n",
    "    # the training set that were rated/viewd by the specified user\n",
    "    recommendations_list = []\n",
    "    recommendations = model.recommend(userID, csr_user_item[userID], N=n_reco, filter_already_liked_items=True)\n",
    "\n",
    "    print(f'[INFO] : Completed in {round(time() - start, 2)}s')\n",
    "    \n",
    "    #recommendations = [elt[0] for elt in recommendations]\n",
    "    \n",
    "    return recommendations"
   ]
  },
  {
   "cell_type": "code",
   "execution_count": 16,
   "metadata": {},
   "outputs": [],
   "source": [
    "# Call the function, train the model and perform recommandations\n",
    "userID = 61691\n",
    "csr_item_user, csr_user_item = compute_interaction_matrix(df)"
   ]
  },
  {
   "cell_type": "code",
   "execution_count": 18,
   "metadata": {},
   "outputs": [
    {
     "name": "stdout",
     "output_type": "stream",
     "text": [
      "[INFO] : Start training model\n"
     ]
    },
    {
     "data": {
      "application/vnd.jupyter.widget-view+json": {
       "model_id": "0eb480e3f703412687e63aca2cbcf735",
       "version_major": 2,
       "version_minor": 0
      },
      "text/plain": [
       "  0%|          | 0/30 [00:00<?, ?it/s]"
      ]
     },
     "metadata": {},
     "output_type": "display_data"
    },
    {
     "name": "stdout",
     "output_type": "stream",
     "text": [
      "[INFO] : Completed in 584.71s\n"
     ]
    },
    {
     "data": {
      "text/plain": [
       "(array([ 84942, 292390, 157332, 209348, 208508]),\n",
       " array([11.138317 ,  8.384117 ,  7.927927 ,  7.6736536,  7.5536165],\n",
       "       dtype=float32))"
      ]
     },
     "execution_count": 18,
     "metadata": {},
     "output_type": "execute_result"
    }
   ],
   "source": [
    "# Construct the prediction model\n",
    "get_cf_reco(df, userID, csr_item_user, csr_user_item,model_path=None, n_reco=5, train=True)"
   ]
  },
  {
   "cell_type": "code",
   "execution_count": 21,
   "metadata": {},
   "outputs": [
    {
     "name": "stdout",
     "output_type": "stream",
     "text": [
      "[INFO] : Completed in 0.35s\n"
     ]
    },
    {
     "data": {
      "text/plain": [
       "(array([354086, 158535, 348111,  30730, 199376]),\n",
       " array([10.955527 , 10.441811 ,  9.946945 ,  9.7908945,  9.310896 ],\n",
       "       dtype=float32))"
      ]
     },
     "execution_count": 21,
     "metadata": {},
     "output_type": "execute_result"
    }
   ],
   "source": [
    "# Call the function, load the model and perform recommandations\n",
    "userID = 34\n",
    "get_cf_reco(df, userID, csr_item_user, csr_user_item, model_path=\"./recommender.model\", n_reco=5, train=False)"
   ]
  },
  {
   "cell_type": "markdown",
   "metadata": {},
   "source": [
    "## Deal with Embedding File\n",
    "https://towardsdatascience.com/visualizing-word-embedding-with-pca-and-t-sne-961a692509f5"
   ]
  },
  {
   "cell_type": "code",
   "execution_count": null,
   "metadata": {},
   "outputs": [],
   "source": [
    "from sklearn.metrics.pairwise import cosine_similarity\n",
    "from sklearn.decomposition import PCA"
   ]
  },
  {
   "cell_type": "code",
   "execution_count": 52,
   "metadata": {},
   "outputs": [
    {
     "name": "stdout",
     "output_type": "stream",
     "text": [
      "Embedding shape  : (364047, 250)\n",
      "Embedding type  : <class 'numpy.ndarray'>\n"
     ]
    }
   ],
   "source": [
    "# Load embedding file\n",
    "with open('./data/articles_embeddings.pickle','rb') as pickle_file:\n",
    "    emb_matrix = pickle.load(pickle_file)\n",
    "print('Embedding shape  :',emb_matrix.shape)\n",
    "print('Embedding type  :',type(emb_matrix))"
   ]
  },
  {
   "cell_type": "code",
   "execution_count": 51,
   "metadata": {},
   "outputs": [
    {
     "name": "stdout",
     "output_type": "stream",
     "text": [
      "Pick an article\n",
      "Article choosen is   : 88\n"
     ]
    }
   ],
   "source": [
    "# Choosen article has an index comprised in [0, 364047] \n",
    "print('Pick an article')\n",
    "art = int(input('Give an interger from 0 to 364047'))\n",
    "print('Article choosen is   :', art)"
   ]
  },
  {
   "cell_type": "code",
   "execution_count": 144,
   "metadata": {},
   "outputs": [
    {
     "name": "stdout",
     "output_type": "stream",
     "text": [
      "choosen article : 88\n"
     ]
    },
    {
     "data": {
      "text/html": [
       "<div>\n",
       "<style scoped>\n",
       "    .dataframe tbody tr th:only-of-type {\n",
       "        vertical-align: middle;\n",
       "    }\n",
       "\n",
       "    .dataframe tbody tr th {\n",
       "        vertical-align: top;\n",
       "    }\n",
       "\n",
       "    .dataframe thead th {\n",
       "        text-align: right;\n",
       "    }\n",
       "</style>\n",
       "<table border=\"1\" class=\"dataframe\">\n",
       "  <thead>\n",
       "    <tr style=\"text-align: right;\">\n",
       "      <th></th>\n",
       "      <th>article_index</th>\n",
       "      <th>cosine</th>\n",
       "    </tr>\n",
       "  </thead>\n",
       "  <tbody>\n",
       "    <tr>\n",
       "      <th>79</th>\n",
       "      <td>79</td>\n",
       "      <td>0.862483</td>\n",
       "    </tr>\n",
       "    <tr>\n",
       "      <th>9</th>\n",
       "      <td>9</td>\n",
       "      <td>0.832213</td>\n",
       "    </tr>\n",
       "    <tr>\n",
       "      <th>61</th>\n",
       "      <td>61</td>\n",
       "      <td>0.825840</td>\n",
       "    </tr>\n",
       "    <tr>\n",
       "      <th>76</th>\n",
       "      <td>76</td>\n",
       "      <td>0.817524</td>\n",
       "    </tr>\n",
       "    <tr>\n",
       "      <th>89</th>\n",
       "      <td>90</td>\n",
       "      <td>0.807653</td>\n",
       "    </tr>\n",
       "  </tbody>\n",
       "</table>\n",
       "</div>"
      ],
      "text/plain": [
       "    article_index    cosine\n",
       "79             79  0.862483\n",
       "9               9  0.832213\n",
       "61             61  0.825840\n",
       "76             76  0.817524\n",
       "89             90  0.807653"
      ]
     },
     "execution_count": 144,
     "metadata": {},
     "output_type": "execute_result"
    }
   ],
   "source": [
    "# Test cosine similarity for 2 vectors within Embedding matrix\n",
    "d=[]\n",
    "l=[]\n",
    "c = 0\n",
    "art_vect = emb_matrix[art]\n",
    "art_vect = np.reshape(art_vect,(1,-1))\n",
    "print('choosen article :',art)\n",
    "\n",
    "for i in range (100):\n",
    "    if i == art :\n",
    "        pass\n",
    "    else :\n",
    "        #print(' index = ',i)\n",
    "        l = emb_matrix[i]\n",
    "        l = np.reshape(l,(1,-1))\n",
    "                \n",
    "        cosine = cosine_similarity(l,art_vect)\n",
    "         \n",
    "\n",
    "        d.append(\n",
    "            {\n",
    "                'article_index':i,\n",
    "                'cosine':cosine[0][0]\n",
    "            \n",
    "            }\n",
    "        )\n",
    "\n",
    "k=pd.DataFrame(d)\n",
    "k.sort_values(by=['cosine'],ascending=False).head(5)"
   ]
  }
 ],
 "metadata": {
  "kernelspec": {
   "display_name": "Python 3.9.13 ('env': venv)",
   "language": "python",
   "name": "python3"
  },
  "language_info": {
   "codemirror_mode": {
    "name": "ipython",
    "version": 3
   },
   "file_extension": ".py",
   "mimetype": "text/x-python",
   "name": "python",
   "nbconvert_exporter": "python",
   "pygments_lexer": "ipython3",
   "version": "3.9.13"
  },
  "orig_nbformat": 4,
  "vscode": {
   "interpreter": {
    "hash": "e3dc05c9c1b05f6ec49112d0d1b9d0e775fe82a90e95228b67323878b2f45536"
   }
  }
 },
 "nbformat": 4,
 "nbformat_minor": 2
}
